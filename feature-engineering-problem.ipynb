{
 "cells": [
  {
   "cell_type": "markdown",
   "metadata": {},
   "source": [
    "# Feature Engineering - Practical Walkthrough \n",
    "\n",
    "### Problem Statement\n",
    "Your task is to perform feature engineering in-order to tranform both numerical and categorical data. The dataset can be found at - \"./datasets/survey_data.csv\". \n",
    "\n",
    "There are a total of 18 column and 1000 rows.\n",
    "\n"
   ]
  },
  {
   "cell_type": "markdown",
   "metadata": {},
   "source": [
    "### 1) Let's start by importing the necessary libraries and data set."
   ]
  },
  {
   "cell_type": "code",
   "execution_count": null,
   "metadata": {},
   "outputs": [],
   "source": [
    "#importing libraries\n",
    "import pandas as pd\n",
    "import numpy as np\n",
    "import matplotlib.pyplot as plt\n",
    "import seaborn as sns   \n",
    "\n",
    "#importing the dataset\n",
    "df = pd.read_csv('./datasets/data.csv')\n",
    "\n",
    "#checking the data\n",
    "df.head(10)\n",
    "df.shape"
   ]
  },
  {
   "cell_type": "markdown",
   "metadata": {},
   "source": [
    "## Now let's go through the numerical data  \n",
    "But always check for missing values first"
   ]
  },
  {
   "cell_type": "code",
   "execution_count": null,
   "metadata": {},
   "outputs": [],
   "source": [
    "#Checking for missing values\n",
    "df.isnull().sum()"
   ]
  },
  {
   "cell_type": "markdown",
   "metadata": {},
   "source": [
    "**Let's start by taking a look at numerical data**\n",
    "Before that let's seperate our data into numerical and Categorical\n"
   ]
  },
  {
   "cell_type": "code",
   "execution_count": null,
   "metadata": {},
   "outputs": [],
   "source": [
    "## Assigning variables to distinguish numerical and categorical variables\n",
    "numerical_data = [\"age\", \"weight\", \"height\", \"hours_of_exercise\",\"avg_daily_calories\", \"city_temperature\", \"income\"]\n",
    "categorical_data = [\"marriage_status\", \"gender\", \"diet_type\", \"if_smokes\", \"if_drinks\", \"if_drugs\", \"city\", \"diseases_or_conditions\",\"education_level\"]\n",
    "\n",
    "\n",
    "numerical_df = df.loc[:,numerical_data]\n",
    "categorical_df = df.loc[:,categorical_data] "
   ]
  },
  {
   "cell_type": "code",
   "execution_count": null,
   "metadata": {},
   "outputs": [],
   "source": [
    "#summarizing numerical data\n",
    "numerical_df.describe()"
   ]
  },
  {
   "cell_type": "markdown",
   "metadata": {},
   "source": [
    "Let's start from age. we can create a new feature called age group from the age which can help add value to our model.To do this we'll create a new column -  age group. and group people based on age.\n",
    "\n",
    "With weight an height we can calculate the BMI which is kg/m2. We can apply this formula and create a new BMI feature and also group people based on their BMI.\n",
    "\n"
   ]
  },
  {
   "cell_type": "code",
   "execution_count": null,
   "metadata": {},
   "outputs": [],
   "source": [
    "\n",
    "#create age_group based on age\n",
    "df['age_group'] = np.where(df.age <= 30, 1, np.where(df.age <= 40, 2, np.where(df.age <= 50, 3, np.where(df.age <= 60, 4, 5))))\n",
    "\n",
    "# Calculating the bmi and assigning as a new column\n",
    "df['bmi'] = df.weight/(df.height/100)**2\n",
    "\n",
    "# creating weight class based on bmi\n",
    "df[\"weight_class\"] = np.where(df.bmi <= 18.5, 1, np.where(df.bmi <= 25, 2, np.where(df.bmi <= 30, 3, np.where(df.bmi <= 35, 4, 5))))\n",
    "\n",
    "df"
   ]
  },
  {
   "cell_type": "markdown",
   "metadata": {},
   "source": [
    "### Now let's see how you can deal with some of the Categorical data\n"
   ]
  },
  {
   "cell_type": "code",
   "execution_count": null,
   "metadata": {},
   "outputs": [],
   "source": [
    "categorical_df.info()"
   ]
  },
  {
   "cell_type": "markdown",
   "metadata": {},
   "source": [
    "Let's start with the nominal data\n",
    "\n",
    "- let's do some one hot encoding. we can see that \"if_smokes\" ,\"if_drinks\",\"if_drugs\"  features are already one hot encoded . We just have to convert them into binary.\n",
    "\n",
    "- We'll try to build a function to automate the one hot encoding process to deal witj \"Marriage_status\", \"gender\", \"diet_type\", \"city\" and \"diseases or conditions\".\n",
    "\n",
    "- We can also add additional data from outside which we think are useful. Population of each city in- order to get more perspective\"\n"
   ]
  },
  {
   "cell_type": "code",
   "execution_count": null,
   "metadata": {},
   "outputs": [],
   "source": [
    "#Converting \"if_smokes\",\"if_drinks,if_drugs\" to binary\n",
    "df[\"if_smokes\"] = df['if_smokes'].replace({\"yes\": 1, \"no\": 0})\n",
    "df[\"if_drinks\"] = df['if_drinks'].replace({\"yes\": 1, \"no\": 0})\n",
    "df[\"if_drugs\"] = df['if_drugs'].replace({\"yes\": 1, \"no\": 0})\n",
    "\n",
    "\n",
    "#printing the value counts for each each of them\n",
    "print(f\"\"\"\n",
    "smoker: \n",
    "{df[\"if_smokes\"].value_counts()}\n",
    "drinkers:\n",
    "{df[\"if_drinks\"].value_counts()}\n",
    "drug_users: \n",
    "{df[\"if_drugs\"].value_counts()}\n",
    "{df[[\"if_smokes\",\"if_drinks\",\"if_drugs\"]].head(10)}\"\"\")\n",
    "\n",
    "df.shape"
   ]
  },
  {
   "cell_type": "markdown",
   "metadata": {},
   "source": [
    "Now let's build a function for encoding encode all of the nominal data."
   ]
  },
  {
   "cell_type": "code",
   "execution_count": null,
   "metadata": {},
   "outputs": [],
   "source": [
    "\n",
    "def one_hot_encoder(df, column_name):\n",
    "    \"\"\"\n",
    "    One hot encoder for categorical data\n",
    "    \"\"\"\n",
    "    df = pd.get_dummies(df[column_name])\n",
    "    return df\n",
    "\n",
    "city_encoded = one_hot_encoder(df, \"city\")\n",
    "diseases_encoded = one_hot_encoder(df, \"diseases_or_conditions\")\n",
    "gender_encoded = one_hot_encoder(df,\"gender\")\n",
    "marriage_status_encoded = one_hot_encoder(df, \"marriage_status\")\n",
    "\n",
    "df = df.join([city_encoded,  diseases_encoded, gender_encoded, marriage_status_encoded])"
   ]
  },
  {
   "cell_type": "markdown",
   "metadata": {},
   "source": [
    "for education_level we'll build a value map with dict and then map those values."
   ]
  },
  {
   "cell_type": "code",
   "execution_count": null,
   "metadata": {},
   "outputs": [],
   "source": [
    "df.education_level.value_counts()\n",
    "\n",
    "scale_mapper = {\"high_school\":1,\n",
    "                \"college\":3,\n",
    "                \"university\":4,\n",
    "                \"other\":5}\n",
    "\n",
    "df[\"education_level\"].replace(scale_mapper, inplace=True)\n"
   ]
  },
  {
   "cell_type": "markdown",
   "metadata": {},
   "source": [
    "### There is much more you can work on here. these are just a few examples and scenarios of how you can solve these problems by yourselves. "
   ]
  },
  {
   "cell_type": "markdown",
   "metadata": {},
   "source": []
  }
 ],
 "metadata": {
  "kernelspec": {
   "display_name": "Python 3.9.12 ('base')",
   "language": "python",
   "name": "python3"
  },
  "language_info": {
   "codemirror_mode": {
    "name": "ipython",
    "version": 3
   },
   "file_extension": ".py",
   "mimetype": "text/x-python",
   "name": "python",
   "nbconvert_exporter": "python",
   "pygments_lexer": "ipython3",
   "version": "3.9.12"
  },
  "orig_nbformat": 4,
  "vscode": {
   "interpreter": {
    "hash": "73b821250e16fc16900c2a3e52b4ecb495c96a009b33fe27669e30a795cf2d76"
   }
  }
 },
 "nbformat": 4,
 "nbformat_minor": 2
}
